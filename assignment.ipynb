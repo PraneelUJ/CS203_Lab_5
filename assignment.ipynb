{
 "cells": [
  {
   "cell_type": "code",
   "execution_count": 1,
   "metadata": {},
   "outputs": [],
   "source": [
    "import numpy as np \n",
    "import pandas as pd \n",
    "from sklearn.model_selection import train_test_split "
   ]
  },
  {
   "cell_type": "code",
   "execution_count": 3,
   "metadata": {},
   "outputs": [],
   "source": [
    "from PIL import Image\n",
    "import os"
   ]
  },
  {
   "cell_type": "code",
   "execution_count": 15,
   "metadata": {},
   "outputs": [],
   "source": [
    "image_files = [f for f in os.listdir('dataset\\\\cats') if f.endswith('.jpg')]\n",
    "images = []\n",
    "counter=0\n",
    "cats_train=[]\n",
    "cats_test=[]\n",
    "\n",
    "for i in image_files:\n",
    "    img_path = os.path.join('dataset\\\\cats', i)\n",
    "    img = Image.open(img_path)\n",
    "    counter+=1\n",
    "    if(counter<=56):\n",
    "        img_array = np.array(img)\n",
    "        cats_train.append(img_array)\n",
    "    else:\n",
    "        img_array=np.array(img)\n",
    "        cats_test.append(img_array)"
   ]
  },
  {
   "cell_type": "code",
   "execution_count": 16,
   "metadata": {},
   "outputs": [],
   "source": [
    "image_files = [f for f in os.listdir('dataset\\\\dogs') if f.endswith('.jpg')]\n",
    "images = []\n",
    "counter=0\n",
    "dogs_train=[]\n",
    "dogs_test=[]\n",
    "\n",
    "for i in image_files:\n",
    "    img_path = os.path.join('dataset\\\\dogs', i)\n",
    "    img = Image.open(img_path)\n",
    "    counter+=1\n",
    "    if(counter<=56):\n",
    "        img_array = np.array(img)\n",
    "        dogs_train.append(img_array)\n",
    "    else:\n",
    "        img_array=np.array(img)\n",
    "        dogs_test.append(img_array)"
   ]
  }
 ],
 "metadata": {
  "kernelspec": {
   "display_name": "Python 3",
   "language": "python",
   "name": "python3"
  },
  "language_info": {
   "codemirror_mode": {
    "name": "ipython",
    "version": 3
   },
   "file_extension": ".py",
   "mimetype": "text/x-python",
   "name": "python",
   "nbconvert_exporter": "python",
   "pygments_lexer": "ipython3",
   "version": "3.12.6"
  }
 },
 "nbformat": 4,
 "nbformat_minor": 2
}
