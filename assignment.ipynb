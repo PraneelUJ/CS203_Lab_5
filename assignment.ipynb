{
 "cells": [
  {
   "cell_type": "code",
   "execution_count": 8,
   "metadata": {},
   "outputs": [],
   "source": [
    "import numpy as np \n",
    "import pandas as pd \n",
    "import matplotlib.pyplot as plt\n",
    "from sklearn.model_selection import train_test_split \n"
   ]
  },
  {
   "cell_type": "code",
   "execution_count": 2,
   "metadata": {},
   "outputs": [],
   "source": [
    "from PIL import Image\n",
    "import os"
   ]
  },
  {
   "cell_type": "code",
   "execution_count": 22,
   "metadata": {},
   "outputs": [],
   "source": [
    "image_files = [f for f in os.listdir('dataset/cats') if f.endswith('.jpg')]\n",
    "images = []\n",
    "counter=0\n",
    "cats_train=[]\n",
    "cats_test=[]\n",
    "\n",
    "for i in image_files:\n",
    "    img_path = os.path.join('dataset/cats', i)\n",
    "    img = Image.open(img_path)\n",
    "    counter+=1\n",
    "    if(counter<=56):\n",
    "        img_array = np.array(img)\n",
    "        cats_train.append(img_array)\n",
    "    else:\n",
    "        img_array=np.array(img)\n",
    "        cats_test.append(img_array)"
   ]
  },
  {
   "cell_type": "code",
   "execution_count": 23,
   "metadata": {},
   "outputs": [],
   "source": [
    "image_files = [f for f in os.listdir('dataset/dogs') if f.endswith('.jpg')]\n",
    "images = []\n",
    "counter=0\n",
    "dogs_train=[]\n",
    "dogs_test=[]\n",
    "\n",
    "for i in image_files:\n",
    "    img_path = os.path.join('dataset/dogs', i)\n",
    "    img = np.array(Image.open(img_path))\n",
    "    counter+=1\n",
    "    if(counter<=56):\n",
    "        img_array = np.array(img)\n",
    "        dogs_train.append(img_array)\n",
    "    else:\n",
    "        img_array=np.array(img)\n",
    "        dogs_test.append(img_array)"
   ]
  },
  {
   "cell_type": "code",
   "execution_count": 26,
   "metadata": {},
   "outputs": [
    {
     "data": {
      "text/plain": [
       "(56, 14, 56, 14)"
      ]
     },
     "execution_count": 26,
     "metadata": {},
     "output_type": "execute_result"
    }
   ],
   "source": [
    "len(dogs_train),len(dogs_test),len(cats_train),len(cats_test)"
   ]
  },
  {
   "cell_type": "code",
   "execution_count": 10,
   "metadata": {},
   "outputs": [
    {
     "data": {
      "image/png": "[encoded data removed]",
      "text/plain": [
       "<Figure size 640x480 with 1 Axes>"
      ]
     },
     "metadata": {},
     "output_type": "display_data"
    }
   ],
   "source": [
    "# plot the bar graph for the counts of train and test cats and dogs images\n",
    "\n",
    "objects = ('Train Cats', 'Test Cats', 'Train Dogs', 'Test Dogs')\n",
    "y_pos = np.arange(len(objects))\n",
    "performance = [len(cats_train),len(cats_test),len(dogs_train),len(dogs_test)]\n",
    "plt.bar(y_pos, performance, align='center')\n",
    "plt.xticks(y_pos, objects)\n",
    "plt.ylabel('Number of Images')\n",
    "plt.title('Train and Test Images')\n",
    "plt.show()\n"
   ]
  },
  {
   "cell_type": "code",
   "execution_count": null,
   "metadata": {},
   "outputs": [],
   "source": []
  }
 ],
 "metadata": {
  "kernelspec": {
   "display_name": "Python 3",
   "language": "python",
   "name": "python3"
  },
  "language_info": {
   "codemirror_mode": {
    "name": "ipython",
    "version": 3
   },
   "file_extension": ".py",
   "mimetype": "text/x-python",
   "name": "python",
   "nbconvert_exporter": "python",
   "pygments_lexer": "ipython3",
   "version": "3.13.1"
  }
 },
 "nbformat": 4,
 "nbformat_minor": 2
}
