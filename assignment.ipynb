{
  "cells": [
    {
      "cell_type": "markdown",
      "metadata": {
        "id": "view-in-github",
        "colab_type": "text"
      },
      "source": [
        "<a href=\"https://colab.research.google.com/github/PraneelUJ/CS203_Lab_5/blob/main/assignment.ipynb\" target=\"_parent\"><img src=\"https://colab.research.google.com/assets/colab-badge.svg\" alt=\"Open In Colab\"/></a>"
      ]
    },
    {
      "cell_type": "code",
      "execution_count": 1,
      "metadata": {
        "id": "7loNcTz_NHy3"
      },
      "outputs": [],
      "source": [
        "import numpy as np\n",
        "import matplotlib.pyplot as plt\n",
        "from sklearn.model_selection import train_test_split\n"
      ]
    },
    {
      "cell_type": "code",
      "source": [
        "!pip install --upgrade augly -q\n",
        "!pip install nlpaug -q"
      ],
      "metadata": {
        "colab": {
          "base_uri": "https://localhost:8080/"
        },
        "id": "AOFvTaF2NwB_",
        "outputId": "11f3666d-38dc-43be-ab33-9349897b001c"
      },
      "execution_count": 3,
      "outputs": [
        {
          "output_type": "stream",
          "name": "stdout",
          "text": [
            "\u001b[?25l     \u001b[90m━━━━━━━━━━━━━━━━━━━━━━━━━━━━━━━━━━━━━━━━\u001b[0m \u001b[32m0.0/42.2 kB\u001b[0m \u001b[31m?\u001b[0m eta \u001b[36m-:--:--\u001b[0m\r\u001b[2K     \u001b[90m━━━━━━━━━━━━━━━━━━━━━━━━━━━━━━━━━━━━━━━━\u001b[0m \u001b[32m42.2/42.2 kB\u001b[0m \u001b[31m1.9 MB/s\u001b[0m eta \u001b[36m0:00:00\u001b[0m\n",
            "\u001b[?25h  Preparing metadata (setup.py) ... \u001b[?25l\u001b[?25hdone\n",
            "\u001b[2K   \u001b[90m━━━━━━━━━━━━━━━━━━━━━━━━━━━━━━━━━━━━━━━━\u001b[0m \u001b[32m24.3/24.3 MB\u001b[0m \u001b[31m70.0 MB/s\u001b[0m eta \u001b[36m0:00:00\u001b[0m\n",
            "\u001b[?25h  Building wheel for iopath (setup.py) ... \u001b[?25l\u001b[?25hdone\n",
            "\u001b[2K   \u001b[90m━━━━━━━━━━━━━━━━━━━━━━━━━━━━━━━━━━━━━━━━\u001b[0m \u001b[32m410.5/410.5 kB\u001b[0m \u001b[31m7.2 MB/s\u001b[0m eta \u001b[36m0:00:00\u001b[0m\n",
            "\u001b[?25h"
          ]
        }
      ]
    },
    {
      "cell_type": "code",
      "execution_count": 4,
      "metadata": {
        "collapsed": true,
        "id": "9L_NF7-gNHy4"
      },
      "outputs": [],
      "source": [
        "from PIL import Image\n",
        "import os\n",
        "import random\n",
        "import augly.image as imaugs"
      ]
    },
    {
      "cell_type": "code",
      "source": [
        "from google.colab import drive\n",
        "drive.mount('/content/drive')"
      ],
      "metadata": {
        "colab": {
          "base_uri": "https://localhost:8080/"
        },
        "id": "VNXQN_lKN8YZ",
        "outputId": "04171de4-2ae6-4ff3-dac9-4def597d3511"
      },
      "execution_count": 6,
      "outputs": [
        {
          "output_type": "stream",
          "name": "stdout",
          "text": [
            "Mounted at /content/drive\n"
          ]
        }
      ]
    },
    {
      "cell_type": "code",
      "execution_count": 37,
      "metadata": {
        "id": "TdA_0fnoNHy5"
      },
      "outputs": [],
      "source": [
        "image_files = [f for f in os.listdir('/content/drive/MyDrive/cats') if f.endswith('.jpg')]\n",
        "images = []\n",
        "counter=0\n",
        "cats_train=[]\n",
        "cats_test=[]\n",
        "\n",
        "for i in image_files:\n",
        "    img_path = os.path.join('/content/drive/MyDrive/cats', i)\n",
        "    img = Image.open(img_path)\n",
        "    counter+=1\n",
        "    if(counter<=56):\n",
        "        img_array = np.array(img)\n",
        "        cats_train.append(img_array)\n",
        "    else:\n",
        "        img_array=np.array(img)\n",
        "        cats_test.append(img_array)\n"
      ]
    },
    {
      "cell_type": "code",
      "execution_count": 38,
      "metadata": {
        "id": "YLJtV3j7NHy5"
      },
      "outputs": [],
      "source": [
        "image_files = [f for f in os.listdir('/content/drive/MyDrive/dogs') if f.endswith('.jpg')]\n",
        "images = []\n",
        "counter=0\n",
        "dogs_train=[]\n",
        "dogs_test=[]\n",
        "\n",
        "for i in image_files:\n",
        "    img_path = os.path.join('/content/drive/MyDrive/dogs', i)\n",
        "    img = np.array(Image.open(img_path))\n",
        "    counter+=1\n",
        "    if(counter<=56):\n",
        "        img_array = np.array(img)\n",
        "        dogs_train.append(img_array)\n",
        "    else:\n",
        "        img_array=np.array(img)\n",
        "        dogs_test.append(img_array)"
      ]
    },
    {
      "cell_type": "code",
      "execution_count": 39,
      "metadata": {
        "colab": {
          "base_uri": "https://localhost:8080/"
        },
        "id": "yJTSQCKPNHy6",
        "outputId": "5e11adad-3024-45fc-a4cd-7439535bc7ea"
      },
      "outputs": [
        {
          "output_type": "execute_result",
          "data": {
            "text/plain": [
              "(56, 14, 56, 14)"
            ]
          },
          "metadata": {},
          "execution_count": 39
        }
      ],
      "source": [
        "len(dogs_train),len(dogs_test),len(cats_train),len(cats_test)"
      ]
    },
    {
      "cell_type": "code",
      "execution_count": 40,
      "metadata": {
        "colab": {
          "base_uri": "https://localhost:8080/",
          "height": 452
        },
        "id": "HkPHfAgHNHy6",
        "outputId": "d8eb4d90-a407-4e33-e6f4-a44ffd97a08d"
      },
      "outputs": [
        {
          "output_type": "display_data",
          "data": {
            "text/plain": [
              "<Figure size 640x480 with 1 Axes>"
            ],
            "image/png": "[encoded data removed]"
          },
          "metadata": {}
        }
      ],
      "source": [
        "# plot the bar graph for the counts of train and test cats and dogs images\n",
        "\n",
        "objects = ('Train Cats', 'Test Cats', 'Train Dogs', 'Test Dogs')\n",
        "y_pos = np.arange(len(objects))\n",
        "performance = [len(cats_train),len(cats_test),len(dogs_train),len(dogs_test)]\n",
        "plt.bar(y_pos, performance, align='center')\n",
        "plt.xticks(y_pos, objects)\n",
        "plt.ylabel('Number of Images')\n",
        "plt.title('Train and Test Images')\n",
        "plt.show()\n"
      ]
    },
    {
      "cell_type": "code",
      "execution_count": 90,
      "metadata": {
        "collapsed": true,
        "id": "BuFq7xHoNHy6"
      },
      "outputs": [],
      "source": [
        "def augment_images(images_path, output_path):\n",
        "    # Delete all existing images in the output directory before augmentation\n",
        "    if os.path.exists(output_path):\n",
        "        for file in os.listdir(output_path):\n",
        "            file_path = os.path.join(output_path, file)\n",
        "            if os.path.isfile(file_path) and file.lower().endswith(('.jpg', '.png', '.jpeg')):\n",
        "                os.remove(file_path)\n",
        "        print(f\"Cleared existing images in {output_path}\")\n",
        "\n",
        "    # Ensure the output directory exists\n",
        "    os.makedirs(output_path, exist_ok=True)\n",
        "\n",
        "    # List of augmentation functions\n",
        "    augmentation_ops = [\n",
        "        imaugs.blur,\n",
        "        imaugs.crop,\n",
        "        imaugs.rotate,\n",
        "        imaugs.scale,\n",
        "        imaugs.random_noise,\n",
        "        imaugs.grayscale,\n",
        "        imaugs.opacity,\n",
        "        imaugs.brightness,\n",
        "        imaugs.contrast,\n",
        "        imaugs.pixelization,\n",
        "        imaugs.pad_square,\n",
        "        imaugs.sharpen,\n",
        "        imaugs.skew,\n",
        "        imaugs.scale,\n",
        "    ]\n",
        "\n",
        "    # Get list of image files and sort them to ensure consistency\n",
        "    image_files = sorted([f for f in os.listdir(images_path) if f.endswith(('.jpg', '.png', '.jpeg'))])\n",
        "\n",
        "    # Process only the first 56 images\n",
        "    for idx, filename in enumerate(image_files[:56]):  # Limiting to 56 images\n",
        "        input_file = os.path.join(images_path, filename)\n",
        "\n",
        "        # Load image using PIL\n",
        "        try:\n",
        "            image = Image.open(input_file)\n",
        "        except Exception as e:\n",
        "            print(f\"Skipping {filename}: {e}\")\n",
        "            continue\n",
        "\n",
        "        # Perform augmentation twice for each image\n",
        "        for i in range(2):\n",
        "            ops = random.sample(augmentation_ops, 3)  # Select 3 random augmentations\n",
        "            print(f\"Applying {', '.join([op.__name__ for op in ops])} to {filename} (Augment {i+1})\")\n",
        "\n",
        "            # Apply augmentations sequentially\n",
        "            augmented_image = image\n",
        "            l=[]\n",
        "            for op in ops:\n",
        "                try:\n",
        "                    augmented_image = op(augmented_image)  # Apply augmentation\n",
        "                    l.append(augmented_image)\n",
        "                except Exception as e:\n",
        "                    print(f\"Error applying {op.__name__} to {filename}: {e}\")\n",
        "                    continue  # Skip to next operation if one fails\n",
        "\n",
        "\n",
        "            # Save final augmented image with unique identifier\n",
        "            output_file = os.path.join(output_path, f\"aug_{i+1}_{filename}\")\n",
        "            augmented_image.save(output_file)\n",
        "\n",
        "    print(\"done\")\n"
      ]
    },
    {
      "cell_type": "code",
      "source": [
        "augment_images('/content/drive/MyDrive/cats', '/content/drive/MyDrive/dataset_augmented/cats')"
      ],
      "metadata": {
        "collapsed": true,
        "colab": {
          "base_uri": "https://localhost:8080/"
        },
        "id": "XuOO4Af-btdT",
        "outputId": "55e86478-b4f1-439a-cbbf-ddd00e93d2fd"
      },
      "execution_count": 91,
      "outputs": [
        {
          "output_type": "stream",
          "name": "stdout",
          "text": [
            "Cleared existing images in /content/drive/MyDrive/dataset_augmented/cats\n",
            "Applying blur, contrast, sharpen to cat_1.jpg (Augment 1)\n",
            "Applying grayscale, opacity, pad_square to cat_1.jpg (Augment 2)\n",
            "Applying sharpen, scale, crop to cat_106.jpg (Augment 1)\n",
            "Applying blur, scale, sharpen to cat_106.jpg (Augment 2)\n",
            "Applying contrast, scale, brightness to cat_109.jpg (Augment 1)\n",
            "Applying random_noise, pixelization, scale to cat_109.jpg (Augment 2)\n",
            "Applying sharpen, scale, blur to cat_113.jpg (Augment 1)\n",
            "Applying grayscale, opacity, scale to cat_113.jpg (Augment 2)\n",
            "Applying crop, pixelization, blur to cat_114.jpg (Augment 1)\n",
            "Applying opacity, scale, random_noise to cat_114.jpg (Augment 2)\n",
            "Applying random_noise, grayscale, pixelization to cat_116.jpg (Augment 1)\n",
            "Applying skew, pad_square, rotate to cat_116.jpg (Augment 2)\n",
            "Applying contrast, blur, crop to cat_118.jpg (Augment 1)\n",
            "Applying blur, sharpen, rotate to cat_118.jpg (Augment 2)\n",
            "Applying crop, random_noise, pixelization to cat_119.jpg (Augment 1)\n",
            "Applying rotate, pad_square, brightness to cat_119.jpg (Augment 2)\n",
            "Applying pixelization, opacity, scale to cat_124.jpg (Augment 1)\n",
            "Applying pixelization, opacity, random_noise to cat_124.jpg (Augment 2)\n",
            "Applying rotate, pixelization, pad_square to cat_140.jpg (Augment 1)\n",
            "Applying brightness, crop, blur to cat_140.jpg (Augment 2)\n",
            "Applying contrast, blur, pad_square to cat_147.jpg (Augment 1)\n",
            "Applying contrast, sharpen, opacity to cat_147.jpg (Augment 2)\n",
            "Applying crop, brightness, sharpen to cat_156.jpg (Augment 1)\n",
            "Applying scale, brightness, contrast to cat_156.jpg (Augment 2)\n",
            "Applying blur, crop, random_noise to cat_158.jpg (Augment 1)\n",
            "Applying opacity, random_noise, rotate to cat_158.jpg (Augment 2)\n",
            "Applying crop, scale, skew to cat_162.jpg (Augment 1)\n",
            "Applying scale, sharpen, pad_square to cat_162.jpg (Augment 2)\n",
            "Applying random_noise, opacity, sharpen to cat_18.jpg (Augment 1)\n",
            "Applying sharpen, pixelization, pad_square to cat_18.jpg (Augment 2)\n",
            "Applying rotate, opacity, sharpen to cat_190.jpg (Augment 1)\n",
            "Applying contrast, skew, grayscale to cat_190.jpg (Augment 2)\n",
            "Applying crop, pad_square, opacity to cat_203.jpg (Augment 1)\n",
            "Applying blur, brightness, rotate to cat_203.jpg (Augment 2)\n",
            "Applying scale, grayscale, scale to cat_223.jpg (Augment 1)\n",
            "Applying grayscale, brightness, scale to cat_223.jpg (Augment 2)\n",
            "Applying grayscale, skew, sharpen to cat_234.jpg (Augment 1)\n",
            "Applying blur, opacity, scale to cat_234.jpg (Augment 2)\n",
            "Applying blur, rotate, pad_square to cat_244.jpg (Augment 1)\n",
            "Applying scale, pixelization, sharpen to cat_244.jpg (Augment 2)\n",
            "Applying sharpen, crop, pixelization to cat_251.jpg (Augment 1)\n",
            "Applying sharpen, brightness, skew to cat_251.jpg (Augment 2)\n",
            "Applying grayscale, pixelization, sharpen to cat_255.jpg (Augment 1)\n",
            "Applying blur, brightness, scale to cat_255.jpg (Augment 2)\n",
            "Applying brightness, sharpen, blur to cat_268.jpg (Augment 1)\n",
            "Applying contrast, blur, grayscale to cat_268.jpg (Augment 2)\n",
            "Applying grayscale, rotate, skew to cat_279.jpg (Augment 1)\n",
            "Applying opacity, blur, crop to cat_279.jpg (Augment 2)\n",
            "Applying scale, brightness, random_noise to cat_281.jpg (Augment 1)\n",
            "Applying pad_square, rotate, contrast to cat_281.jpg (Augment 2)\n",
            "Applying pad_square, pixelization, scale to cat_290.jpg (Augment 1)\n",
            "Applying scale, sharpen, scale to cat_290.jpg (Augment 2)\n",
            "Applying random_noise, pixelization, brightness to cat_306.jpg (Augment 1)\n",
            "Applying contrast, brightness, opacity to cat_306.jpg (Augment 2)\n",
            "Applying rotate, scale, crop to cat_313.jpg (Augment 1)\n",
            "Applying scale, sharpen, rotate to cat_313.jpg (Augment 2)\n",
            "Applying blur, rotate, sharpen to cat_332.jpg (Augment 1)\n",
            "Applying contrast, brightness, crop to cat_332.jpg (Augment 2)\n",
            "Applying pad_square, skew, blur to cat_341.jpg (Augment 1)\n",
            "Applying blur, rotate, crop to cat_341.jpg (Augment 2)\n",
            "Applying crop, random_noise, scale to cat_342.jpg (Augment 1)\n",
            "Applying pixelization, grayscale, crop to cat_342.jpg (Augment 2)\n",
            "Applying scale, crop, opacity to cat_355.jpg (Augment 1)\n",
            "Applying opacity, skew, grayscale to cat_355.jpg (Augment 2)\n",
            "Applying grayscale, opacity, pad_square to cat_358.jpg (Augment 1)\n",
            "Applying contrast, opacity, rotate to cat_358.jpg (Augment 2)\n",
            "Applying crop, pad_square, brightness to cat_371.jpg (Augment 1)\n",
            "Applying random_noise, sharpen, crop to cat_371.jpg (Augment 2)\n",
            "Applying pad_square, crop, sharpen to cat_375.jpg (Augment 1)\n",
            "Applying brightness, pixelization, crop to cat_375.jpg (Augment 2)\n",
            "Applying scale, contrast, opacity to cat_384.jpg (Augment 1)\n",
            "Applying pad_square, rotate, brightness to cat_384.jpg (Augment 2)\n",
            "Applying blur, pad_square, sharpen to cat_395.jpg (Augment 1)\n",
            "Applying pixelization, pad_square, brightness to cat_395.jpg (Augment 2)\n",
            "Applying brightness, blur, scale to cat_417.jpg (Augment 1)\n",
            "Applying pixelization, sharpen, grayscale to cat_417.jpg (Augment 2)\n",
            "Applying scale, blur, rotate to cat_418.jpg (Augment 1)\n",
            "Applying pixelization, random_noise, rotate to cat_418.jpg (Augment 2)\n",
            "Applying blur, skew, scale to cat_422.jpg (Augment 1)\n",
            "Applying skew, random_noise, pixelization to cat_422.jpg (Augment 2)\n",
            "Applying blur, skew, pad_square to cat_430.jpg (Augment 1)\n",
            "Applying scale, brightness, sharpen to cat_430.jpg (Augment 2)\n",
            "Applying grayscale, brightness, opacity to cat_433.jpg (Augment 1)\n",
            "Applying scale, pad_square, rotate to cat_433.jpg (Augment 2)\n",
            "Applying opacity, pixelization, grayscale to cat_446.jpg (Augment 1)\n",
            "Applying blur, random_noise, sharpen to cat_446.jpg (Augment 2)\n",
            "Applying grayscale, skew, rotate to cat_464.jpg (Augment 1)\n",
            "Applying opacity, pad_square, random_noise to cat_464.jpg (Augment 2)\n",
            "Applying brightness, random_noise, skew to cat_468.jpg (Augment 1)\n",
            "Applying opacity, random_noise, rotate to cat_468.jpg (Augment 2)\n",
            "Applying opacity, random_noise, crop to cat_473.jpg (Augment 1)\n",
            "Applying grayscale, contrast, scale to cat_473.jpg (Augment 2)\n",
            "Applying opacity, blur, rotate to cat_496.jpg (Augment 1)\n",
            "Applying pixelization, brightness, pad_square to cat_496.jpg (Augment 2)\n",
            "Applying sharpen, random_noise, skew to cat_5.jpg (Augment 1)\n",
            "Applying pixelization, random_noise, sharpen to cat_5.jpg (Augment 2)\n",
            "Applying blur, sharpen, contrast to cat_504.jpg (Augment 1)\n",
            "Applying random_noise, skew, crop to cat_504.jpg (Augment 2)\n",
            "Applying pad_square, scale, crop to cat_520.jpg (Augment 1)\n",
            "Applying brightness, skew, sharpen to cat_520.jpg (Augment 2)\n",
            "Applying blur, brightness, skew to cat_523.jpg (Augment 1)\n",
            "Applying scale, contrast, pixelization to cat_523.jpg (Augment 2)\n",
            "Applying brightness, scale, grayscale to cat_525.jpg (Augment 1)\n",
            "Applying crop, opacity, scale to cat_525.jpg (Augment 2)\n",
            "Applying blur, pad_square, brightness to cat_528.jpg (Augment 1)\n",
            "Applying pixelization, grayscale, skew to cat_528.jpg (Augment 2)\n",
            "Applying crop, pixelization, contrast to cat_538.jpg (Augment 1)\n",
            "Applying blur, sharpen, opacity to cat_538.jpg (Augment 2)\n",
            "Applying random_noise, contrast, scale to cat_542.jpg (Augment 1)\n",
            "Applying skew, brightness, random_noise to cat_542.jpg (Augment 2)\n",
            "Applying brightness, grayscale, rotate to cat_545.jpg (Augment 1)\n",
            "Applying scale, random_noise, contrast to cat_545.jpg (Augment 2)\n",
            "done\n"
          ]
        }
      ]
    },
    {
      "cell_type": "code",
      "source": [
        "folder_path = \"/content/drive/MyDrive/dataset_augmented/cats\"\n",
        "\n",
        "# Get all image files (JPG, PNG, etc.)\n",
        "image_files = [f for f in os.listdir(folder_path) if f.endswith(('.jpg', '.jpeg', '.png'))]\n",
        "\n",
        "# Print image file names\n",
        "print(\"Found images:\", image_files)\n"
      ],
      "metadata": {
        "colab": {
          "base_uri": "https://localhost:8080/"
        },
        "id": "sLkI3spLRUDU",
        "outputId": "359b33ed-7c4c-4ace-9c69-a2690de9b5aa"
      },
      "execution_count": 92,
      "outputs": [
        {
          "output_type": "stream",
          "name": "stdout",
          "text": [
            "Found images: ['aug_1_cat_1.jpg', 'aug_2_cat_1.jpg', 'aug_1_cat_106.jpg', 'aug_2_cat_106.jpg', 'aug_1_cat_109.jpg', 'aug_2_cat_109.jpg', 'aug_1_cat_113.jpg', 'aug_2_cat_113.jpg', 'aug_1_cat_114.jpg', 'aug_2_cat_114.jpg', 'aug_1_cat_116.jpg', 'aug_2_cat_116.jpg', 'aug_1_cat_118.jpg', 'aug_2_cat_118.jpg', 'aug_1_cat_119.jpg', 'aug_2_cat_119.jpg', 'aug_1_cat_124.jpg', 'aug_2_cat_124.jpg', 'aug_1_cat_140.jpg', 'aug_2_cat_140.jpg', 'aug_1_cat_147.jpg', 'aug_2_cat_147.jpg', 'aug_1_cat_156.jpg', 'aug_2_cat_156.jpg', 'aug_1_cat_158.jpg', 'aug_2_cat_158.jpg', 'aug_1_cat_162.jpg', 'aug_2_cat_162.jpg', 'aug_1_cat_18.jpg', 'aug_2_cat_18.jpg', 'aug_1_cat_190.jpg', 'aug_2_cat_190.jpg', 'aug_1_cat_203.jpg', 'aug_2_cat_203.jpg', 'aug_1_cat_223.jpg', 'aug_2_cat_223.jpg', 'aug_1_cat_234.jpg', 'aug_2_cat_234.jpg', 'aug_1_cat_244.jpg', 'aug_2_cat_244.jpg', 'aug_1_cat_251.jpg', 'aug_2_cat_251.jpg', 'aug_1_cat_255.jpg', 'aug_2_cat_255.jpg', 'aug_1_cat_268.jpg', 'aug_2_cat_268.jpg', 'aug_1_cat_279.jpg', 'aug_2_cat_279.jpg', 'aug_1_cat_281.jpg', 'aug_2_cat_281.jpg', 'aug_1_cat_290.jpg', 'aug_2_cat_290.jpg', 'aug_1_cat_306.jpg', 'aug_2_cat_306.jpg', 'aug_1_cat_313.jpg', 'aug_2_cat_313.jpg', 'aug_1_cat_332.jpg', 'aug_2_cat_332.jpg', 'aug_1_cat_341.jpg', 'aug_2_cat_341.jpg', 'aug_1_cat_342.jpg', 'aug_2_cat_342.jpg', 'aug_1_cat_355.jpg', 'aug_2_cat_355.jpg', 'aug_1_cat_358.jpg', 'aug_2_cat_358.jpg', 'aug_1_cat_371.jpg', 'aug_2_cat_371.jpg', 'aug_1_cat_375.jpg', 'aug_2_cat_375.jpg', 'aug_1_cat_384.jpg', 'aug_2_cat_384.jpg', 'aug_1_cat_395.jpg', 'aug_2_cat_395.jpg', 'aug_1_cat_417.jpg', 'aug_2_cat_417.jpg', 'aug_1_cat_418.jpg', 'aug_2_cat_418.jpg', 'aug_1_cat_422.jpg', 'aug_2_cat_422.jpg', 'aug_1_cat_430.jpg', 'aug_2_cat_430.jpg', 'aug_1_cat_433.jpg', 'aug_2_cat_433.jpg', 'aug_1_cat_446.jpg', 'aug_2_cat_446.jpg', 'aug_1_cat_464.jpg', 'aug_2_cat_464.jpg', 'aug_1_cat_468.jpg', 'aug_2_cat_468.jpg', 'aug_1_cat_473.jpg', 'aug_2_cat_473.jpg', 'aug_1_cat_496.jpg', 'aug_2_cat_496.jpg', 'aug_1_cat_5.jpg', 'aug_2_cat_5.jpg', 'aug_1_cat_504.jpg', 'aug_2_cat_504.jpg', 'aug_1_cat_520.jpg', 'aug_2_cat_520.jpg', 'aug_1_cat_523.jpg', 'aug_2_cat_523.jpg', 'aug_1_cat_525.jpg', 'aug_2_cat_525.jpg', 'aug_1_cat_528.jpg', 'aug_2_cat_528.jpg', 'aug_1_cat_538.jpg', 'aug_2_cat_538.jpg', 'aug_1_cat_542.jpg', 'aug_2_cat_542.jpg', 'aug_1_cat_545.jpg', 'aug_2_cat_545.jpg']\n"
          ]
        }
      ]
    },
    {
      "cell_type": "code",
      "source": [
        "len(image_files)"
      ],
      "metadata": {
        "colab": {
          "base_uri": "https://localhost:8080/"
        },
        "id": "FqWPjyi0dTCh",
        "outputId": "1cb29bd8-ef2f-43a0-dec0-40435ed7ba2a"
      },
      "execution_count": 93,
      "outputs": [
        {
          "output_type": "execute_result",
          "data": {
            "text/plain": [
              "112"
            ]
          },
          "metadata": {},
          "execution_count": 93
        }
      ]
    },
    {
      "cell_type": "code",
      "source": [
        "augment_images('/content/drive/MyDrive/dogs', '/content/drive/MyDrive/dataset_augmented/dogs')"
      ],
      "metadata": {
        "collapsed": true,
        "colab": {
          "base_uri": "https://localhost:8080/"
        },
        "id": "5ctvtoeTfWqA",
        "outputId": "0e791b65-2795-490d-c750-926d71725c78"
      },
      "execution_count": 94,
      "outputs": [
        {
          "output_type": "stream",
          "name": "stdout",
          "text": [
            "Cleared existing images in /content/drive/MyDrive/dataset_augmented/dogs\n",
            "Applying random_noise, scale, sharpen to dog_114.jpg (Augment 1)\n",
            "Applying skew, pad_square, brightness to dog_114.jpg (Augment 2)\n",
            "Applying crop, scale, sharpen to dog_123.jpg (Augment 1)\n",
            "Applying pad_square, crop, random_noise to dog_123.jpg (Augment 2)\n",
            "Applying scale, opacity, sharpen to dog_124.jpg (Augment 1)\n",
            "Applying crop, pixelization, opacity to dog_124.jpg (Augment 2)\n",
            "Applying opacity, brightness, contrast to dog_130.jpg (Augment 1)\n",
            "Applying scale, pad_square, grayscale to dog_130.jpg (Augment 2)\n",
            "Applying random_noise, crop, grayscale to dog_141.jpg (Augment 1)\n",
            "Applying skew, brightness, scale to dog_141.jpg (Augment 2)\n",
            "Applying skew, blur, contrast to dog_142.jpg (Augment 1)\n",
            "Applying random_noise, scale, scale to dog_142.jpg (Augment 2)\n",
            "Applying pad_square, scale, contrast to dog_147.jpg (Augment 1)\n",
            "Applying opacity, pad_square, brightness to dog_147.jpg (Augment 2)\n",
            "Applying contrast, rotate, pixelization to dog_150.jpg (Augment 1)\n",
            "Applying skew, blur, grayscale to dog_150.jpg (Augment 2)\n",
            "Applying pixelization, random_noise, contrast to dog_155.jpg (Augment 1)\n",
            "Applying opacity, sharpen, scale to dog_155.jpg (Augment 2)\n",
            "Applying random_noise, brightness, pad_square to dog_159.jpg (Augment 1)\n",
            "Applying skew, pad_square, random_noise to dog_159.jpg (Augment 2)\n",
            "Applying random_noise, scale, crop to dog_168.jpg (Augment 1)\n",
            "Applying brightness, pad_square, pixelization to dog_168.jpg (Augment 2)\n",
            "Applying scale, blur, sharpen to dog_173.jpg (Augment 1)\n",
            "Applying scale, scale, crop to dog_173.jpg (Augment 2)\n",
            "Applying opacity, crop, scale to dog_177.jpg (Augment 1)\n",
            "Applying crop, scale, blur to dog_177.jpg (Augment 2)\n",
            "Applying rotate, pixelization, pad_square to dog_181.jpg (Augment 1)\n",
            "Applying sharpen, blur, contrast to dog_181.jpg (Augment 2)\n",
            "Applying blur, pad_square, opacity to dog_191.jpg (Augment 1)\n",
            "Applying sharpen, crop, scale to dog_191.jpg (Augment 2)\n",
            "Applying brightness, contrast, scale to dog_194.jpg (Augment 1)\n",
            "Applying brightness, opacity, pixelization to dog_194.jpg (Augment 2)\n",
            "Applying blur, contrast, brightness to dog_196.jpg (Augment 1)\n",
            "Applying crop, brightness, grayscale to dog_196.jpg (Augment 2)\n",
            "Applying skew, grayscale, pad_square to dog_197.jpg (Augment 1)\n",
            "Applying crop, opacity, blur to dog_197.jpg (Augment 2)\n",
            "Applying opacity, scale, crop to dog_211.jpg (Augment 1)\n",
            "Applying scale, rotate, grayscale to dog_211.jpg (Augment 2)\n",
            "Applying sharpen, scale, scale to dog_213.jpg (Augment 1)\n",
            "Applying opacity, crop, scale to dog_213.jpg (Augment 2)\n",
            "Applying sharpen, pad_square, blur to dog_219.jpg (Augment 1)\n",
            "Applying contrast, sharpen, pad_square to dog_219.jpg (Augment 2)\n",
            "Applying pixelization, scale, grayscale to dog_227.jpg (Augment 1)\n",
            "Applying scale, pixelization, sharpen to dog_227.jpg (Augment 2)\n",
            "Applying pad_square, rotate, crop to dog_229.jpg (Augment 1)\n",
            "Applying sharpen, crop, scale to dog_229.jpg (Augment 2)\n",
            "Applying scale, blur, pixelization to dog_236.jpg (Augment 1)\n",
            "Applying scale, crop, contrast to dog_236.jpg (Augment 2)\n",
            "Applying random_noise, rotate, contrast to dog_237.jpg (Augment 1)\n",
            "Applying pixelization, grayscale, contrast to dog_237.jpg (Augment 2)\n",
            "Applying random_noise, scale, rotate to dog_240.jpg (Augment 1)\n",
            "Applying random_noise, rotate, crop to dog_240.jpg (Augment 2)\n",
            "Applying random_noise, skew, pixelization to dog_244.jpg (Augment 1)\n",
            "Applying pad_square, contrast, brightness to dog_244.jpg (Augment 2)\n",
            "Applying random_noise, skew, opacity to dog_258.jpg (Augment 1)\n",
            "Applying blur, skew, crop to dog_258.jpg (Augment 2)\n",
            "Applying crop, scale, scale to dog_28.jpg (Augment 1)\n",
            "Applying crop, contrast, pixelization to dog_28.jpg (Augment 2)\n",
            "Applying grayscale, random_noise, sharpen to dog_283.jpg (Augment 1)\n",
            "Applying rotate, random_noise, scale to dog_283.jpg (Augment 2)\n",
            "Applying grayscale, contrast, scale to dog_302.jpg (Augment 1)\n",
            "Applying blur, scale, rotate to dog_302.jpg (Augment 2)\n",
            "Applying sharpen, brightness, opacity to dog_303.jpg (Augment 1)\n",
            "Applying sharpen, scale, random_noise to dog_303.jpg (Augment 2)\n",
            "Applying scale, brightness, pixelization to dog_313.jpg (Augment 1)\n",
            "Applying skew, crop, sharpen to dog_313.jpg (Augment 2)\n",
            "Applying sharpen, scale, brightness to dog_327.jpg (Augment 1)\n",
            "Applying sharpen, contrast, scale to dog_327.jpg (Augment 2)\n",
            "Applying grayscale, pad_square, crop to dog_344.jpg (Augment 1)\n",
            "Applying random_noise, opacity, rotate to dog_344.jpg (Augment 2)\n",
            "Applying sharpen, scale, scale to dog_354.jpg (Augment 1)\n",
            "Applying skew, sharpen, scale to dog_354.jpg (Augment 2)\n",
            "Applying random_noise, grayscale, crop to dog_355.jpg (Augment 1)\n",
            "Applying skew, contrast, grayscale to dog_355.jpg (Augment 2)\n",
            "Applying sharpen, blur, grayscale to dog_360.jpg (Augment 1)\n",
            "Applying rotate, blur, pixelization to dog_360.jpg (Augment 2)\n",
            "Applying scale, skew, grayscale to dog_364.jpg (Augment 1)\n",
            "Applying grayscale, pixelization, contrast to dog_364.jpg (Augment 2)\n",
            "Applying rotate, random_noise, sharpen to dog_369.jpg (Augment 1)\n",
            "Applying scale, blur, sharpen to dog_369.jpg (Augment 2)\n",
            "Applying opacity, scale, random_noise to dog_377.jpg (Augment 1)\n",
            "Applying scale, opacity, pad_square to dog_377.jpg (Augment 2)\n",
            "Applying opacity, pixelization, random_noise to dog_380.jpg (Augment 1)\n",
            "Applying crop, sharpen, brightness to dog_380.jpg (Augment 2)\n",
            "Applying grayscale, sharpen, skew to dog_398.jpg (Augment 1)\n",
            "Applying skew, pixelization, brightness to dog_398.jpg (Augment 2)\n",
            "Applying sharpen, opacity, crop to dog_415.jpg (Augment 1)\n",
            "Applying pad_square, opacity, scale to dog_415.jpg (Augment 2)\n",
            "Applying pixelization, scale, crop to dog_421.jpg (Augment 1)\n",
            "Applying rotate, crop, opacity to dog_421.jpg (Augment 2)\n",
            "Applying pixelization, brightness, random_noise to dog_43.jpg (Augment 1)\n",
            "Applying scale, brightness, pad_square to dog_43.jpg (Augment 2)\n",
            "Applying sharpen, scale, scale to dog_44.jpg (Augment 1)\n",
            "Applying scale, pixelization, crop to dog_44.jpg (Augment 2)\n",
            "Applying skew, crop, contrast to dog_442.jpg (Augment 1)\n",
            "Applying brightness, sharpen, pad_square to dog_442.jpg (Augment 2)\n",
            "Applying rotate, scale, blur to dog_443.jpg (Augment 1)\n",
            "Applying contrast, scale, crop to dog_443.jpg (Augment 2)\n",
            "Applying opacity, contrast, scale to dog_461.jpg (Augment 1)\n",
            "Applying grayscale, crop, random_noise to dog_461.jpg (Augment 2)\n",
            "Applying scale, opacity, blur to dog_462.jpg (Augment 1)\n",
            "Applying brightness, grayscale, random_noise to dog_462.jpg (Augment 2)\n",
            "Applying scale, grayscale, brightness to dog_464.jpg (Augment 1)\n",
            "Applying crop, random_noise, brightness to dog_464.jpg (Augment 2)\n",
            "Applying crop, sharpen, contrast to dog_472.jpg (Augment 1)\n",
            "Applying contrast, scale, pixelization to dog_472.jpg (Augment 2)\n",
            "Applying contrast, pad_square, grayscale to dog_476.jpg (Augment 1)\n",
            "Applying sharpen, pixelization, blur to dog_476.jpg (Augment 2)\n",
            "Applying pad_square, grayscale, pixelization to dog_482.jpg (Augment 1)\n",
            "Applying brightness, scale, random_noise to dog_482.jpg (Augment 2)\n",
            "Applying rotate, pixelization, brightness to dog_517.jpg (Augment 1)\n",
            "Applying scale, sharpen, skew to dog_517.jpg (Augment 2)\n",
            "done\n"
          ]
        }
      ]
    },
    {
      "cell_type": "code",
      "source": [
        "folder_path = \"/content/drive/MyDrive/dataset_augmented/dogs\"\n",
        "\n",
        "# Get all image files (JPG, PNG, etc.)\n",
        "image_files = [f for f in os.listdir(folder_path) if f.endswith(('.jpg', '.jpeg', '.png'))]\n",
        "\n",
        "# Print image file names\n",
        "print(\"Found images:\", image_files)\n"
      ],
      "metadata": {
        "colab": {
          "base_uri": "https://localhost:8080/"
        },
        "id": "yCA9wUhvjlSU",
        "outputId": "d22cadc4-7d9d-4b76-a93e-0d6c3bfb8f10"
      },
      "execution_count": 95,
      "outputs": [
        {
          "output_type": "stream",
          "name": "stdout",
          "text": [
            "Found images: ['aug_1_dog_114.jpg', 'aug_2_dog_114.jpg', 'aug_1_dog_123.jpg', 'aug_2_dog_123.jpg', 'aug_1_dog_124.jpg', 'aug_2_dog_124.jpg', 'aug_1_dog_130.jpg', 'aug_2_dog_130.jpg', 'aug_1_dog_141.jpg', 'aug_2_dog_141.jpg', 'aug_1_dog_142.jpg', 'aug_2_dog_142.jpg', 'aug_1_dog_147.jpg', 'aug_2_dog_147.jpg', 'aug_1_dog_150.jpg', 'aug_2_dog_150.jpg', 'aug_1_dog_155.jpg', 'aug_2_dog_155.jpg', 'aug_1_dog_159.jpg', 'aug_2_dog_159.jpg', 'aug_1_dog_168.jpg', 'aug_2_dog_168.jpg', 'aug_1_dog_173.jpg', 'aug_2_dog_173.jpg', 'aug_1_dog_177.jpg', 'aug_2_dog_177.jpg', 'aug_1_dog_181.jpg', 'aug_2_dog_181.jpg', 'aug_1_dog_191.jpg', 'aug_2_dog_191.jpg', 'aug_1_dog_194.jpg', 'aug_2_dog_194.jpg', 'aug_1_dog_196.jpg', 'aug_2_dog_196.jpg', 'aug_1_dog_197.jpg', 'aug_2_dog_197.jpg', 'aug_1_dog_211.jpg', 'aug_2_dog_211.jpg', 'aug_1_dog_213.jpg', 'aug_2_dog_213.jpg', 'aug_1_dog_219.jpg', 'aug_2_dog_219.jpg', 'aug_1_dog_227.jpg', 'aug_2_dog_227.jpg', 'aug_1_dog_229.jpg', 'aug_2_dog_229.jpg', 'aug_1_dog_236.jpg', 'aug_2_dog_236.jpg', 'aug_1_dog_237.jpg', 'aug_2_dog_237.jpg', 'aug_1_dog_240.jpg', 'aug_2_dog_240.jpg', 'aug_1_dog_244.jpg', 'aug_2_dog_244.jpg', 'aug_1_dog_258.jpg', 'aug_2_dog_258.jpg', 'aug_1_dog_28.jpg', 'aug_2_dog_28.jpg', 'aug_1_dog_283.jpg', 'aug_2_dog_283.jpg', 'aug_1_dog_302.jpg', 'aug_2_dog_302.jpg', 'aug_1_dog_303.jpg', 'aug_2_dog_303.jpg', 'aug_1_dog_313.jpg', 'aug_2_dog_313.jpg', 'aug_1_dog_327.jpg', 'aug_2_dog_327.jpg', 'aug_1_dog_344.jpg', 'aug_2_dog_344.jpg', 'aug_1_dog_354.jpg', 'aug_2_dog_354.jpg', 'aug_1_dog_355.jpg', 'aug_2_dog_355.jpg', 'aug_1_dog_360.jpg', 'aug_2_dog_360.jpg', 'aug_1_dog_364.jpg', 'aug_2_dog_364.jpg', 'aug_1_dog_369.jpg', 'aug_2_dog_369.jpg', 'aug_1_dog_377.jpg', 'aug_2_dog_377.jpg', 'aug_1_dog_380.jpg', 'aug_2_dog_380.jpg', 'aug_1_dog_398.jpg', 'aug_2_dog_398.jpg', 'aug_1_dog_415.jpg', 'aug_2_dog_415.jpg', 'aug_1_dog_421.jpg', 'aug_2_dog_421.jpg', 'aug_1_dog_43.jpg', 'aug_2_dog_43.jpg', 'aug_1_dog_44.jpg', 'aug_2_dog_44.jpg', 'aug_1_dog_442.jpg', 'aug_2_dog_442.jpg', 'aug_1_dog_443.jpg', 'aug_2_dog_443.jpg', 'aug_1_dog_461.jpg', 'aug_2_dog_461.jpg', 'aug_1_dog_462.jpg', 'aug_2_dog_462.jpg', 'aug_1_dog_464.jpg', 'aug_2_dog_464.jpg', 'aug_1_dog_472.jpg', 'aug_2_dog_472.jpg', 'aug_1_dog_476.jpg', 'aug_2_dog_476.jpg', 'aug_1_dog_482.jpg', 'aug_2_dog_482.jpg', 'aug_1_dog_517.jpg', 'aug_2_dog_517.jpg']\n"
          ]
        }
      ]
    },
    {
      "cell_type": "code",
      "source": [
        "len(image_files)"
      ],
      "metadata": {
        "colab": {
          "base_uri": "https://localhost:8080/"
        },
        "id": "oab_A-R5jqqM",
        "outputId": "1320cf93-00d1-4b12-8a1d-ef2e0319e3b4"
      },
      "execution_count": 96,
      "outputs": [
        {
          "output_type": "execute_result",
          "data": {
            "text/plain": [
              "112"
            ]
          },
          "metadata": {},
          "execution_count": 96
        }
      ]
    }
  ],
  "metadata": {
    "kernelspec": {
      "display_name": "env",
      "language": "python",
      "name": "python3"
    },
    "language_info": {
      "codemirror_mode": {
        "name": "ipython",
        "version": 3
      },
      "file_extension": ".py",
      "mimetype": "text/x-python",
      "name": "python",
      "nbconvert_exporter": "python",
      "pygments_lexer": "ipython3",
      "version": "3.11.5"
    },
    "colab": {
      "provenance": [],
      "include_colab_link": true
    }
  },
  "nbformat": 4,
  "nbformat_minor": 0
}