{
  "cells": [
    {
      "cell_type": "markdown",
      "metadata": {
        "id": "view-in-github",
        "colab_type": "text"
      },
      "source": [
        "<a href=\"https://colab.research.google.com/github/PraneelUJ/CS203_Lab_5/blob/main/assignment.ipynb\" target=\"_parent\"><img src=\"https://colab.research.google.com/assets/colab-badge.svg\" alt=\"Open In Colab\"/></a>"
      ]
    },
    {
      "cell_type": "code",
      "execution_count": 1,
      "metadata": {
        "id": "7loNcTz_NHy3"
      },
      "outputs": [],
      "source": [
        "import numpy as np\n",
        "import matplotlib.pyplot as plt\n",
        "from sklearn.model_selection import train_test_split\n"
      ]
    },
    {
      "cell_type": "code",
      "source": [
        "!pip install --upgrade augly -q\n",
        "!pip install nlpaug -q"
      ],
      "metadata": {
        "colab": {
          "base_uri": "https://localhost:8080/"
        },
        "id": "AOFvTaF2NwB_",
        "outputId": "1fd9e312-5185-45c4-e0e8-7113775aa699"
      },
      "execution_count": 2,
      "outputs": [
        {
          "output_type": "stream",
          "name": "stdout",
          "text": [
            "\u001b[?25l     \u001b[90m━━━━━━━━━━━━━━━━━━━━━━━━━━━━━━━━━━━━━━━━\u001b[0m \u001b[32m0.0/42.2 kB\u001b[0m \u001b[31m?\u001b[0m eta \u001b[36m-:--:--\u001b[0m\r\u001b[2K     \u001b[90m━━━━━━━━━━━━━━━━━━━━━━━━━━━━━━━━━━━━━━━━\u001b[0m \u001b[32m42.2/42.2 kB\u001b[0m \u001b[31m1.2 MB/s\u001b[0m eta \u001b[36m0:00:00\u001b[0m\n",
            "\u001b[?25h  Preparing metadata (setup.py) ... \u001b[?25l\u001b[?25hdone\n",
            "\u001b[2K   \u001b[90m━━━━━━━━━━━━━━━━━━━━━━━━━━━━━━━━━━━━━━━━\u001b[0m \u001b[32m24.3/24.3 MB\u001b[0m \u001b[31m16.7 MB/s\u001b[0m eta \u001b[36m0:00:00\u001b[0m\n",
            "\u001b[?25h  Building wheel for iopath (setup.py) ... \u001b[?25l\u001b[?25hdone\n",
            "\u001b[2K   \u001b[90m━━━━━━━━━━━━━━━━━━━━━━━━━━━━━━━━━━━━━━━━\u001b[0m \u001b[32m410.5/410.5 kB\u001b[0m \u001b[31m7.6 MB/s\u001b[0m eta \u001b[36m0:00:00\u001b[0m\n",
            "\u001b[?25h"
          ]
        }
      ]
    },
    {
      "cell_type": "code",
      "execution_count": 3,
      "metadata": {
        "collapsed": true,
        "id": "9L_NF7-gNHy4"
      },
      "outputs": [],
      "source": [
        "from PIL import Image\n",
        "import os\n",
        "import random\n",
        "import augly.image as imaugs"
      ]
    },
    {
      "cell_type": "code",
      "source": [
        "from google.colab import drive\n",
        "drive.mount('/content/drive')"
      ],
      "metadata": {
        "colab": {
          "base_uri": "https://localhost:8080/"
        },
        "id": "VNXQN_lKN8YZ",
        "outputId": "ca752137-09ac-4db7-b82c-9a715b91e480"
      },
      "execution_count": 4,
      "outputs": [
        {
          "output_type": "stream",
          "name": "stdout",
          "text": [
            "Mounted at /content/drive\n"
          ]
        }
      ]
    },
    {
      "cell_type": "code",
      "execution_count": 5,
      "metadata": {
        "id": "TdA_0fnoNHy5"
      },
      "outputs": [],
      "source": [
        "image_files = [f for f in os.listdir('/content/drive/MyDrive/cats') if f.endswith('.jpg')]\n",
        "images = []\n",
        "counter=0\n",
        "cats_train=[]\n",
        "cats_test=[]\n",
        "\n",
        "for i in image_files:\n",
        "    img_path = os.path.join('/content/drive/MyDrive/cats', i)\n",
        "    img = Image.open(img_path)\n",
        "    counter+=1\n",
        "    if(counter<=56):\n",
        "        img_array = np.array(img)\n",
        "        cats_train.append(img_array)\n",
        "    else:\n",
        "        img_array=np.array(img)\n",
        "        cats_test.append(img_array)\n"
      ]
    },
    {
      "cell_type": "code",
      "execution_count": 6,
      "metadata": {
        "id": "YLJtV3j7NHy5"
      },
      "outputs": [],
      "source": [
        "image_files = [f for f in os.listdir('/content/drive/MyDrive/dogs') if f.endswith('.jpg')]\n",
        "images = []\n",
        "counter=0\n",
        "dogs_train=[]\n",
        "dogs_test=[]\n",
        "\n",
        "for i in image_files:\n",
        "    img_path = os.path.join('/content/drive/MyDrive/dogs', i)\n",
        "    img = np.array(Image.open(img_path))\n",
        "    counter+=1\n",
        "    if(counter<=56):\n",
        "        img_array = np.array(img)\n",
        "        dogs_train.append(img_array)\n",
        "    else:\n",
        "        img_array=np.array(img)\n",
        "        dogs_test.append(img_array)"
      ]
    },
    {
      "cell_type": "code",
      "execution_count": 7,
      "metadata": {
        "colab": {
          "base_uri": "https://localhost:8080/"
        },
        "id": "yJTSQCKPNHy6",
        "outputId": "2a03eac7-4169-44eb-99f1-06008b84c99f"
      },
      "outputs": [
        {
          "output_type": "execute_result",
          "data": {
            "text/plain": [
              "(56, 14, 56, 14)"
            ]
          },
          "metadata": {},
          "execution_count": 7
        }
      ],
      "source": [
        "len(dogs_train),len(dogs_test),len(cats_train),len(cats_test)"
      ]
    },
    {
      "cell_type": "code",
      "execution_count": 24,
      "metadata": {
        "colab": {
          "base_uri": "https://localhost:8080/",
          "height": 452
        },
        "id": "HkPHfAgHNHy6",
        "outputId": "874635f7-4aea-401d-ffb6-a0751e5ff119"
      },
      "outputs": [
        {
          "output_type": "display_data",
          "data": {
            "text/plain": [
              "<Figure size 640x480 with 1 Axes>"
            ],
            "image/png": "[encoded data removed]"
          },
          "metadata": {}
        }
      ],
      "source": [
        "# plot the bar graph for the counts of train and test cats and dogs images\n",
        "\n",
        "objects = ('Train Cats', 'Test Cats', 'Train Dogs', 'Test Dogs')\n",
        "y_pos = np.arange(len(objects))\n",
        "performance = [len(cats_train),len(cats_test),len(dogs_train),len(dogs_test)]\n",
        "plt.bar(y_pos, performance, align='center')\n",
        "plt.xticks(y_pos, objects)\n",
        "plt.ylabel('Number of Images')\n",
        "plt.title('Train and Test Images without Augmented Images Count')\n",
        "plt.show()\n"
      ]
    },
    {
      "cell_type": "markdown",
      "source": [
        "### Defining a function which takes the image and output path and will do 3 random augmentations on a certain image one after the other and will create an image with 3 augmentations which will act as train dataset for the resnet model in Task2"
      ],
      "metadata": {
        "id": "KnH_KfdjZBwG"
      }
    },
    {
      "cell_type": "code",
      "execution_count": 33,
      "metadata": {
        "collapsed": true,
        "id": "BuFq7xHoNHy6"
      },
      "outputs": [],
      "source": [
        "def augment_images(images_path, output_path):\n",
        "    # Delete all existing images in the output directory before augmentation\n",
        "    if os.path.exists(output_path):\n",
        "        for file in os.listdir(output_path):\n",
        "            file_path = os.path.join(output_path, file)\n",
        "            if os.path.isfile(file_path) and file.lower().endswith(('.jpg', '.png', '.jpeg')):\n",
        "                os.remove(file_path)\n",
        "        print(f\"Cleared existing images in {output_path}\")\n",
        "\n",
        "    # Making sure that the output directory exists\n",
        "    os.makedirs(output_path, exist_ok=True)\n",
        "\n",
        "    # List of 14 augmentation functions out of which 3 will get randomly selected for an image\n",
        "    augmentation_ops = [\n",
        "        imaugs.blur,\n",
        "        imaugs.crop,\n",
        "        imaugs.rotate,\n",
        "        imaugs.scale,\n",
        "        imaugs.random_noise,\n",
        "        imaugs.grayscale,\n",
        "        imaugs.opacity,\n",
        "        imaugs.brightness,\n",
        "        imaugs.contrast,\n",
        "        imaugs.pixelization,\n",
        "        imaugs.pad_square,\n",
        "        imaugs.sharpen,\n",
        "        imaugs.skew,\n",
        "        imaugs.scale,\n",
        "    ]\n",
        "\n",
        "    # Getting the list of images\n",
        "    image_files = sorted([f for f in os.listdir(images_path) if f.endswith(('.jpg', '.png', '.jpeg'))])\n",
        "\n",
        "    #Taking the train set on which augmentation will happen\n",
        "    for idx, filename in enumerate(image_files[:56]):\n",
        "        input_file = os.path.join(images_path, filename)\n",
        "\n",
        "        # Loading image using PIL\n",
        "        try:\n",
        "            image = Image.open(input_file)\n",
        "        except Exception as e:\n",
        "            print(f\"Skipping {filename}: {e}\")\n",
        "            continue\n",
        "\n",
        "        #As we want to double our dataset on each image we are doing 3 augmentations 2 times so that 2 new images will be generated\n",
        "        for i in range(2):\n",
        "            ops = random.sample(augmentation_ops, 3)  #  3 random augmentations are selected\n",
        "            print(f\"Applying {', '.join([op.__name__ for op in ops])} to {filename} (Augment {i+1})\")\n",
        "\n",
        "            # Applying the 3 selected augmentations one after the other\n",
        "            augmented_image = image\n",
        "            l=[]\n",
        "            for op in ops:\n",
        "                try:\n",
        "                    augmented_image = op(augmented_image)  # Putting the augmentation\n",
        "                    l.append(augmented_image)\n",
        "                except Exception as e:\n",
        "                    print(f\"Error applying {op.__name__} to {filename}: {e}\")\n",
        "                    continue  # Skip to next operation if one fails\n",
        "\n",
        "\n",
        "            # Saving the final augmented image in the output path defined\n",
        "            output_file = os.path.join(output_path, f\"aug_{i+1}_{filename}\")\n",
        "            augmented_image.save(output_file)\n",
        "\n"
      ]
    },
    {
      "cell_type": "markdown",
      "source": [
        "### Running the augmentation on the Train Cat dataset"
      ],
      "metadata": {
        "id": "yyHJxx7macoJ"
      }
    },
    {
      "cell_type": "code",
      "source": [
        "augment_images('/content/drive/MyDrive/cats', '/content/drive/MyDrive/dataset_augmented/cats')"
      ],
      "metadata": {
        "collapsed": true,
        "colab": {
          "base_uri": "https://localhost:8080/"
        },
        "id": "XuOO4Af-btdT",
        "outputId": "e1772de0-d004-45dc-b261-ad82ee40cfd1"
      },
      "execution_count": 15,
      "outputs": [
        {
          "output_type": "stream",
          "name": "stdout",
          "text": [
            "Cleared existing images in /content/drive/MyDrive/dataset_augmented/cats\n",
            "Applying pad_square, crop, rotate to cat_1.jpg (Augment 1)\n",
            "Applying skew, brightness, scale to cat_1.jpg (Augment 2)\n",
            "Applying contrast, blur, skew to cat_106.jpg (Augment 1)\n",
            "Applying random_noise, crop, grayscale to cat_106.jpg (Augment 2)\n",
            "Applying pad_square, crop, rotate to cat_109.jpg (Augment 1)\n",
            "Applying crop, random_noise, scale to cat_109.jpg (Augment 2)\n",
            "Applying contrast, brightness, crop to cat_113.jpg (Augment 1)\n",
            "Applying pixelization, skew, blur to cat_113.jpg (Augment 2)\n",
            "Applying crop, blur, grayscale to cat_114.jpg (Augment 1)\n",
            "Applying scale, brightness, pixelization to cat_114.jpg (Augment 2)\n",
            "Applying skew, pixelization, blur to cat_116.jpg (Augment 1)\n",
            "Applying sharpen, pad_square, pixelization to cat_116.jpg (Augment 2)\n",
            "Applying sharpen, opacity, random_noise to cat_118.jpg (Augment 1)\n",
            "Applying scale, rotate, crop to cat_118.jpg (Augment 2)\n",
            "Applying scale, scale, pad_square to cat_119.jpg (Augment 1)\n",
            "Applying brightness, opacity, contrast to cat_119.jpg (Augment 2)\n",
            "Applying random_noise, scale, blur to cat_124.jpg (Augment 1)\n",
            "Applying contrast, opacity, pixelization to cat_124.jpg (Augment 2)\n",
            "Applying rotate, sharpen, scale to cat_140.jpg (Augment 1)\n",
            "Applying contrast, scale, random_noise to cat_140.jpg (Augment 2)\n",
            "Applying scale, contrast, opacity to cat_147.jpg (Augment 1)\n",
            "Applying random_noise, scale, opacity to cat_147.jpg (Augment 2)\n",
            "Applying brightness, contrast, rotate to cat_156.jpg (Augment 1)\n",
            "Applying pixelization, grayscale, brightness to cat_156.jpg (Augment 2)\n",
            "Applying random_noise, skew, pad_square to cat_158.jpg (Augment 1)\n",
            "Applying rotate, skew, crop to cat_158.jpg (Augment 2)\n",
            "Applying scale, grayscale, rotate to cat_162.jpg (Augment 1)\n",
            "Applying sharpen, scale, scale to cat_162.jpg (Augment 2)\n",
            "Applying skew, pad_square, brightness to cat_18.jpg (Augment 1)\n",
            "Applying brightness, rotate, crop to cat_18.jpg (Augment 2)\n",
            "Applying pixelization, scale, scale to cat_190.jpg (Augment 1)\n",
            "Applying skew, scale, contrast to cat_190.jpg (Augment 2)\n",
            "Applying crop, grayscale, contrast to cat_203.jpg (Augment 1)\n",
            "Applying skew, brightness, pixelization to cat_203.jpg (Augment 2)\n",
            "Applying blur, rotate, opacity to cat_223.jpg (Augment 1)\n",
            "Applying random_noise, grayscale, contrast to cat_223.jpg (Augment 2)\n",
            "Applying opacity, pad_square, blur to cat_234.jpg (Augment 1)\n",
            "Applying sharpen, pad_square, grayscale to cat_234.jpg (Augment 2)\n",
            "Applying pad_square, brightness, scale to cat_244.jpg (Augment 1)\n",
            "Applying pad_square, scale, rotate to cat_244.jpg (Augment 2)\n",
            "Applying brightness, skew, contrast to cat_251.jpg (Augment 1)\n",
            "Applying contrast, pixelization, grayscale to cat_251.jpg (Augment 2)\n",
            "Applying sharpen, crop, brightness to cat_255.jpg (Augment 1)\n",
            "Applying pad_square, contrast, sharpen to cat_255.jpg (Augment 2)\n",
            "Applying brightness, scale, skew to cat_268.jpg (Augment 1)\n",
            "Applying opacity, scale, random_noise to cat_268.jpg (Augment 2)\n",
            "Applying opacity, pad_square, scale to cat_279.jpg (Augment 1)\n",
            "Applying sharpen, opacity, pixelization to cat_279.jpg (Augment 2)\n",
            "Applying blur, grayscale, random_noise to cat_281.jpg (Augment 1)\n",
            "Applying pad_square, crop, contrast to cat_281.jpg (Augment 2)\n",
            "Applying brightness, sharpen, scale to cat_290.jpg (Augment 1)\n",
            "Applying random_noise, brightness, crop to cat_290.jpg (Augment 2)\n",
            "Applying pixelization, contrast, scale to cat_306.jpg (Augment 1)\n",
            "Applying skew, pad_square, sharpen to cat_306.jpg (Augment 2)\n",
            "Applying pixelization, skew, pad_square to cat_313.jpg (Augment 1)\n",
            "Applying rotate, brightness, blur to cat_313.jpg (Augment 2)\n",
            "Applying contrast, scale, brightness to cat_332.jpg (Augment 1)\n",
            "Applying brightness, crop, rotate to cat_332.jpg (Augment 2)\n",
            "Applying sharpen, random_noise, pixelization to cat_341.jpg (Augment 1)\n",
            "Applying brightness, pixelization, skew to cat_341.jpg (Augment 2)\n",
            "Applying rotate, skew, grayscale to cat_342.jpg (Augment 1)\n",
            "Applying blur, brightness, sharpen to cat_342.jpg (Augment 2)\n",
            "Applying sharpen, grayscale, opacity to cat_355.jpg (Augment 1)\n",
            "Applying rotate, scale, pixelization to cat_355.jpg (Augment 2)\n",
            "Applying sharpen, contrast, random_noise to cat_358.jpg (Augment 1)\n",
            "Applying pixelization, scale, crop to cat_358.jpg (Augment 2)\n",
            "Applying rotate, sharpen, grayscale to cat_371.jpg (Augment 1)\n",
            "Applying contrast, pixelization, grayscale to cat_371.jpg (Augment 2)\n",
            "Applying contrast, pixelization, brightness to cat_375.jpg (Augment 1)\n",
            "Applying scale, opacity, blur to cat_375.jpg (Augment 2)\n",
            "Applying rotate, scale, blur to cat_384.jpg (Augment 1)\n",
            "Applying opacity, skew, pad_square to cat_384.jpg (Augment 2)\n",
            "Applying crop, scale, blur to cat_395.jpg (Augment 1)\n",
            "Applying grayscale, blur, pixelization to cat_395.jpg (Augment 2)\n",
            "Applying sharpen, blur, scale to cat_417.jpg (Augment 1)\n",
            "Applying random_noise, blur, pixelization to cat_417.jpg (Augment 2)\n",
            "Applying brightness, sharpen, contrast to cat_418.jpg (Augment 1)\n",
            "Applying random_noise, scale, grayscale to cat_418.jpg (Augment 2)\n",
            "Applying scale, grayscale, crop to cat_422.jpg (Augment 1)\n",
            "Applying blur, sharpen, brightness to cat_422.jpg (Augment 2)\n",
            "Applying brightness, pixelization, random_noise to cat_430.jpg (Augment 1)\n",
            "Applying sharpen, pixelization, opacity to cat_430.jpg (Augment 2)\n",
            "Applying random_noise, scale, rotate to cat_433.jpg (Augment 1)\n",
            "Applying pad_square, scale, scale to cat_433.jpg (Augment 2)\n",
            "Applying scale, scale, brightness to cat_446.jpg (Augment 1)\n",
            "Applying random_noise, brightness, skew to cat_446.jpg (Augment 2)\n",
            "Applying pixelization, crop, rotate to cat_464.jpg (Augment 1)\n",
            "Applying pixelization, brightness, skew to cat_464.jpg (Augment 2)\n",
            "Applying sharpen, grayscale, contrast to cat_468.jpg (Augment 1)\n",
            "Applying pad_square, pixelization, brightness to cat_468.jpg (Augment 2)\n",
            "Applying blur, contrast, skew to cat_473.jpg (Augment 1)\n",
            "Applying rotate, crop, skew to cat_473.jpg (Augment 2)\n",
            "Applying contrast, brightness, scale to cat_496.jpg (Augment 1)\n",
            "Applying crop, contrast, grayscale to cat_496.jpg (Augment 2)\n",
            "Applying contrast, blur, sharpen to cat_5.jpg (Augment 1)\n",
            "Applying rotate, contrast, opacity to cat_5.jpg (Augment 2)\n",
            "Applying opacity, rotate, blur to cat_504.jpg (Augment 1)\n",
            "Applying random_noise, scale, brightness to cat_504.jpg (Augment 2)\n",
            "Applying pad_square, pixelization, blur to cat_520.jpg (Augment 1)\n",
            "Applying skew, opacity, brightness to cat_520.jpg (Augment 2)\n",
            "Applying grayscale, contrast, scale to cat_523.jpg (Augment 1)\n",
            "Applying skew, rotate, contrast to cat_523.jpg (Augment 2)\n",
            "Applying contrast, pixelization, rotate to cat_525.jpg (Augment 1)\n",
            "Applying contrast, scale, random_noise to cat_525.jpg (Augment 2)\n",
            "Applying pixelization, scale, random_noise to cat_528.jpg (Augment 1)\n",
            "Applying opacity, pad_square, pixelization to cat_528.jpg (Augment 2)\n",
            "Applying grayscale, pad_square, rotate to cat_538.jpg (Augment 1)\n",
            "Applying skew, crop, contrast to cat_538.jpg (Augment 2)\n",
            "Applying contrast, scale, sharpen to cat_542.jpg (Augment 1)\n",
            "Applying blur, skew, grayscale to cat_542.jpg (Augment 2)\n",
            "Applying skew, opacity, contrast to cat_545.jpg (Augment 1)\n",
            "Applying grayscale, crop, opacity to cat_545.jpg (Augment 2)\n",
            "done\n"
          ]
        }
      ]
    },
    {
      "cell_type": "markdown",
      "source": [
        "### Loading the Augmented Image of Cats and getting its count"
      ],
      "metadata": {
        "id": "N5za190QY-82"
      }
    },
    {
      "cell_type": "code",
      "source": [
        "folder_path = \"/content/drive/MyDrive/dataset_augmented/cats\"\n",
        "\n",
        "# Get all image files (JPG, PNG, etc.)\n",
        "image_files = [f for f in os.listdir(folder_path) if f.endswith(('.jpg', '.jpeg', '.png'))]\n",
        "\n"
      ],
      "metadata": {
        "id": "sLkI3spLRUDU"
      },
      "execution_count": 16,
      "outputs": []
    },
    {
      "cell_type": "code",
      "source": [
        "cat_aug_len=len(image_files) # Getting the count of augmented cat images"
      ],
      "metadata": {
        "id": "FqWPjyi0dTCh"
      },
      "execution_count": 19,
      "outputs": []
    },
    {
      "cell_type": "markdown",
      "source": [
        "### Running the augmentation on the Train Dog dataset"
      ],
      "metadata": {
        "id": "1HTPrN8sapEW"
      }
    },
    {
      "cell_type": "code",
      "source": [
        "augment_images('/content/drive/MyDrive/dogs', '/content/drive/MyDrive/dataset_augmented/dogs')"
      ],
      "metadata": {
        "collapsed": true,
        "colab": {
          "base_uri": "https://localhost:8080/"
        },
        "id": "5ctvtoeTfWqA",
        "outputId": "c600c0b8-56cb-426a-e0b4-5aca7a31a993"
      },
      "execution_count": 18,
      "outputs": [
        {
          "output_type": "stream",
          "name": "stdout",
          "text": [
            "Cleared existing images in /content/drive/MyDrive/dataset_augmented/dogs\n",
            "Applying pixelization, opacity, random_noise to dog_114.jpg (Augment 1)\n",
            "Applying pad_square, pixelization, opacity to dog_114.jpg (Augment 2)\n",
            "Applying scale, blur, pixelization to dog_123.jpg (Augment 1)\n",
            "Applying opacity, pixelization, blur to dog_123.jpg (Augment 2)\n",
            "Applying pixelization, scale, sharpen to dog_124.jpg (Augment 1)\n",
            "Applying crop, pixelization, contrast to dog_124.jpg (Augment 2)\n",
            "Applying sharpen, grayscale, opacity to dog_130.jpg (Augment 1)\n",
            "Applying blur, scale, scale to dog_130.jpg (Augment 2)\n",
            "Applying blur, opacity, pad_square to dog_141.jpg (Augment 1)\n",
            "Applying scale, crop, pixelization to dog_141.jpg (Augment 2)\n",
            "Applying pixelization, skew, contrast to dog_142.jpg (Augment 1)\n",
            "Applying scale, sharpen, contrast to dog_142.jpg (Augment 2)\n",
            "Applying blur, random_noise, pad_square to dog_147.jpg (Augment 1)\n",
            "Applying blur, rotate, contrast to dog_147.jpg (Augment 2)\n",
            "Applying blur, crop, scale to dog_150.jpg (Augment 1)\n",
            "Applying pad_square, blur, rotate to dog_150.jpg (Augment 2)\n",
            "Applying rotate, contrast, brightness to dog_155.jpg (Augment 1)\n",
            "Applying pad_square, scale, sharpen to dog_155.jpg (Augment 2)\n",
            "Applying rotate, skew, opacity to dog_159.jpg (Augment 1)\n",
            "Applying scale, random_noise, crop to dog_159.jpg (Augment 2)\n",
            "Applying crop, rotate, contrast to dog_168.jpg (Augment 1)\n",
            "Applying scale, random_noise, grayscale to dog_168.jpg (Augment 2)\n",
            "Applying opacity, brightness, rotate to dog_173.jpg (Augment 1)\n",
            "Applying pixelization, scale, grayscale to dog_173.jpg (Augment 2)\n",
            "Applying pad_square, scale, sharpen to dog_177.jpg (Augment 1)\n",
            "Applying scale, skew, pad_square to dog_177.jpg (Augment 2)\n",
            "Applying grayscale, sharpen, pad_square to dog_181.jpg (Augment 1)\n",
            "Applying sharpen, skew, scale to dog_181.jpg (Augment 2)\n",
            "Applying pad_square, crop, grayscale to dog_191.jpg (Augment 1)\n",
            "Applying opacity, pixelization, skew to dog_191.jpg (Augment 2)\n",
            "Applying contrast, skew, random_noise to dog_194.jpg (Augment 1)\n",
            "Applying sharpen, opacity, blur to dog_194.jpg (Augment 2)\n",
            "Applying sharpen, opacity, pad_square to dog_196.jpg (Augment 1)\n",
            "Applying sharpen, grayscale, skew to dog_196.jpg (Augment 2)\n",
            "Applying rotate, pixelization, contrast to dog_197.jpg (Augment 1)\n",
            "Applying scale, pixelization, contrast to dog_197.jpg (Augment 2)\n",
            "Applying pixelization, blur, scale to dog_211.jpg (Augment 1)\n",
            "Applying blur, grayscale, rotate to dog_211.jpg (Augment 2)\n",
            "Applying crop, scale, blur to dog_213.jpg (Augment 1)\n",
            "Applying pad_square, grayscale, sharpen to dog_213.jpg (Augment 2)\n",
            "Applying rotate, random_noise, pad_square to dog_219.jpg (Augment 1)\n",
            "Applying blur, opacity, skew to dog_219.jpg (Augment 2)\n",
            "Applying crop, scale, rotate to dog_227.jpg (Augment 1)\n",
            "Applying random_noise, grayscale, contrast to dog_227.jpg (Augment 2)\n",
            "Applying skew, scale, contrast to dog_229.jpg (Augment 1)\n",
            "Applying pad_square, sharpen, grayscale to dog_229.jpg (Augment 2)\n",
            "Applying scale, contrast, skew to dog_236.jpg (Augment 1)\n",
            "Applying sharpen, scale, blur to dog_236.jpg (Augment 2)\n",
            "Applying grayscale, sharpen, pixelization to dog_237.jpg (Augment 1)\n",
            "Applying opacity, random_noise, brightness to dog_237.jpg (Augment 2)\n",
            "Applying contrast, skew, rotate to dog_240.jpg (Augment 1)\n",
            "Applying grayscale, random_noise, contrast to dog_240.jpg (Augment 2)\n",
            "Applying brightness, scale, pixelization to dog_244.jpg (Augment 1)\n",
            "Applying scale, grayscale, opacity to dog_244.jpg (Augment 2)\n",
            "Applying sharpen, crop, grayscale to dog_258.jpg (Augment 1)\n",
            "Applying scale, sharpen, random_noise to dog_258.jpg (Augment 2)\n",
            "Applying blur, grayscale, opacity to dog_28.jpg (Augment 1)\n",
            "Applying scale, brightness, contrast to dog_28.jpg (Augment 2)\n",
            "Applying brightness, skew, crop to dog_283.jpg (Augment 1)\n",
            "Applying scale, blur, contrast to dog_283.jpg (Augment 2)\n",
            "Applying scale, sharpen, crop to dog_302.jpg (Augment 1)\n",
            "Applying blur, scale, rotate to dog_302.jpg (Augment 2)\n",
            "Applying opacity, random_noise, sharpen to dog_303.jpg (Augment 1)\n",
            "Applying rotate, brightness, sharpen to dog_303.jpg (Augment 2)\n",
            "Applying blur, scale, brightness to dog_313.jpg (Augment 1)\n",
            "Applying skew, pad_square, rotate to dog_313.jpg (Augment 2)\n",
            "Applying grayscale, skew, brightness to dog_327.jpg (Augment 1)\n",
            "Applying opacity, scale, crop to dog_327.jpg (Augment 2)\n",
            "Applying rotate, opacity, contrast to dog_344.jpg (Augment 1)\n",
            "Applying scale, pad_square, crop to dog_344.jpg (Augment 2)\n",
            "Applying sharpen, contrast, random_noise to dog_354.jpg (Augment 1)\n",
            "Applying skew, scale, contrast to dog_354.jpg (Augment 2)\n",
            "Applying pad_square, pixelization, blur to dog_355.jpg (Augment 1)\n",
            "Applying pixelization, scale, rotate to dog_355.jpg (Augment 2)\n",
            "Applying grayscale, pixelization, brightness to dog_360.jpg (Augment 1)\n",
            "Applying crop, brightness, rotate to dog_360.jpg (Augment 2)\n",
            "Applying scale, opacity, grayscale to dog_364.jpg (Augment 1)\n",
            "Applying grayscale, crop, pixelization to dog_364.jpg (Augment 2)\n",
            "Applying blur, sharpen, random_noise to dog_369.jpg (Augment 1)\n",
            "Applying scale, contrast, brightness to dog_369.jpg (Augment 2)\n",
            "Applying opacity, skew, sharpen to dog_377.jpg (Augment 1)\n",
            "Applying brightness, scale, random_noise to dog_377.jpg (Augment 2)\n",
            "Applying opacity, contrast, random_noise to dog_380.jpg (Augment 1)\n",
            "Applying scale, contrast, crop to dog_380.jpg (Augment 2)\n",
            "Applying opacity, pad_square, scale to dog_398.jpg (Augment 1)\n",
            "Applying blur, brightness, pixelization to dog_398.jpg (Augment 2)\n",
            "Applying pixelization, scale, crop to dog_415.jpg (Augment 1)\n",
            "Applying opacity, scale, contrast to dog_415.jpg (Augment 2)\n",
            "Applying scale, grayscale, sharpen to dog_421.jpg (Augment 1)\n",
            "Applying crop, rotate, scale to dog_421.jpg (Augment 2)\n",
            "Applying sharpen, rotate, grayscale to dog_43.jpg (Augment 1)\n",
            "Applying skew, rotate, contrast to dog_43.jpg (Augment 2)\n",
            "Applying random_noise, crop, blur to dog_44.jpg (Augment 1)\n",
            "Applying scale, crop, brightness to dog_44.jpg (Augment 2)\n",
            "Applying contrast, skew, rotate to dog_442.jpg (Augment 1)\n",
            "Applying blur, opacity, scale to dog_442.jpg (Augment 2)\n",
            "Applying skew, grayscale, opacity to dog_443.jpg (Augment 1)\n",
            "Applying pad_square, scale, brightness to dog_443.jpg (Augment 2)\n",
            "Applying skew, random_noise, scale to dog_461.jpg (Augment 1)\n",
            "Applying random_noise, crop, brightness to dog_461.jpg (Augment 2)\n",
            "Applying scale, opacity, scale to dog_462.jpg (Augment 1)\n",
            "Applying contrast, skew, rotate to dog_462.jpg (Augment 2)\n",
            "Applying rotate, crop, sharpen to dog_464.jpg (Augment 1)\n",
            "Applying scale, contrast, pad_square to dog_464.jpg (Augment 2)\n",
            "Applying rotate, scale, grayscale to dog_472.jpg (Augment 1)\n",
            "Applying scale, opacity, pad_square to dog_472.jpg (Augment 2)\n",
            "Applying scale, rotate, skew to dog_476.jpg (Augment 1)\n",
            "Applying scale, scale, random_noise to dog_476.jpg (Augment 2)\n",
            "Applying opacity, sharpen, scale to dog_482.jpg (Augment 1)\n",
            "Applying blur, grayscale, skew to dog_482.jpg (Augment 2)\n",
            "Applying scale, pixelization, scale to dog_517.jpg (Augment 1)\n",
            "Applying blur, contrast, crop to dog_517.jpg (Augment 2)\n",
            "done\n"
          ]
        }
      ]
    },
    {
      "cell_type": "markdown",
      "source": [
        "### Loading the Augmented Image of Dogs and getting its count"
      ],
      "metadata": {
        "id": "0rt-pU22Y4Hs"
      }
    },
    {
      "cell_type": "code",
      "source": [
        "folder_path = \"/content/drive/MyDrive/dataset_augmented/dogs\"\n",
        "\n",
        "# Get all image files (JPG, PNG, etc.)\n",
        "image_files = [f for f in os.listdir(folder_path) if f.endswith(('.jpg', '.jpeg', '.png'))]\n",
        "\n"
      ],
      "metadata": {
        "id": "yCA9wUhvjlSU"
      },
      "execution_count": 31,
      "outputs": []
    },
    {
      "cell_type": "code",
      "source": [
        "dog_aug_len=len(image_files)# Getting the count of augmented dog images"
      ],
      "metadata": {
        "id": "oab_A-R5jqqM"
      },
      "execution_count": 20,
      "outputs": []
    },
    {
      "cell_type": "code",
      "source": [
        "dog_aug_len"
      ],
      "metadata": {
        "id": "K5C4nQfIS9Wi",
        "outputId": "8ad88034-8e9e-43cf-bdef-5132bfd62141",
        "colab": {
          "base_uri": "https://localhost:8080/"
        }
      },
      "execution_count": 21,
      "outputs": [
        {
          "output_type": "execute_result",
          "data": {
            "text/plain": [
              "112"
            ]
          },
          "metadata": {},
          "execution_count": 21
        }
      ]
    },
    {
      "cell_type": "markdown",
      "source": [
        "### Plotting Count of Augmented and Non-Augmented Images"
      ],
      "metadata": {
        "id": "m3tRSPYgYPnK"
      }
    },
    {
      "cell_type": "code",
      "source": [
        "objects = ('Augmented\\n Train Cats', 'Non-Augmented\\n Train Cats', 'Augmented\\n Train Dogs', 'Non-Augmented\\n Train Dogs')\n",
        "y_pos = np.arange(len(objects))\n",
        "performance = [cat_aug_len,len(cats_train),dog_aug_len,len(dogs_train)]\n",
        "plt.bar(y_pos, performance, align='center')\n",
        "plt.xticks(y_pos, objects)\n",
        "plt.ylabel('Number of Images')\n",
        "plt.title('Augmented Train and Non-Augmented Train Images Count')\n",
        "plt.show()\n"
      ],
      "metadata": {
        "id": "6ssbmnXrURHp",
        "outputId": "1ccbe81e-e618-4c2a-fc41-5846987ecef9",
        "colab": {
          "base_uri": "https://localhost:8080/",
          "height": 468
        }
      },
      "execution_count": 25,
      "outputs": [
        {
          "output_type": "display_data",
          "data": {
            "text/plain": [
              "<Figure size 640x480 with 1 Axes>"
            ],
            "image/png": "[encoded data removed]"
          },
          "metadata": {}
        }
      ]
    },
    {
      "cell_type": "markdown",
      "source": [
        "### Plotting Train (Augmented +  Non-Augmented) and Test Images count"
      ],
      "metadata": {
        "id": "0tNxffTpYpLn"
      }
    },
    {
      "cell_type": "code",
      "source": [
        "objects = ('Train Cats\\n(Augmented + \\n Non-\\nAugmented)','Test\\n Cats', 'Train Dogs\\n(Augmented + \\n Non-\\nAugmented)','Test\\n Dats')\n",
        "y_pos = np.arange(len(objects))\n",
        "performance = [cat_aug_len+len(cats_train),len(cats_test),dog_aug_len+len(dogs_train),len(dogs_test)]\n",
        "plt.bar(y_pos, performance, align='center')\n",
        "plt.xticks(y_pos, objects)\n",
        "plt.ylabel('Number of Images')\n",
        "plt.title('Train and Test Images count')\n",
        "plt.show()\n"
      ],
      "metadata": {
        "id": "2QMWGaarVXBd",
        "outputId": "d71f608e-a5cd-4e1d-ce1f-5a4463a66f3b",
        "colab": {
          "base_uri": "https://localhost:8080/",
          "height": 501
        }
      },
      "execution_count": 32,
      "outputs": [
        {
          "output_type": "display_data",
          "data": {
            "text/plain": [
              "<Figure size 640x480 with 1 Axes>"
            ],
            "image/png": "[encoded data removed]"
          },
          "metadata": {}
        }
      ]
    }
  ],
  "metadata": {
    "kernelspec": {
      "display_name": "env",
      "language": "python",
      "name": "python3"
    },
    "language_info": {
      "codemirror_mode": {
        "name": "ipython",
        "version": 3
      },
      "file_extension": ".py",
      "mimetype": "text/x-python",
      "name": "python",
      "nbconvert_exporter": "python",
      "pygments_lexer": "ipython3",
      "version": "3.11.5"
    },
    "colab": {
      "provenance": [],
      "include_colab_link": true
    }
  },
  "nbformat": 4,
  "nbformat_minor": 0
}